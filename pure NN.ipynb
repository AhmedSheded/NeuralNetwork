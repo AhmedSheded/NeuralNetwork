{
 "cells": [
  {
   "cell_type": "code",
   "execution_count": 245,
   "id": "a759e1b4",
   "metadata": {},
   "outputs": [],
   "source": [
    "import numpy as np"
   ]
  },
  {
   "cell_type": "code",
   "execution_count": 246,
   "id": "6dd3e1e0",
   "metadata": {},
   "outputs": [],
   "source": [
    "def sigmoid(z):\n",
    "    return 1.0/(1+np.exp(-z))"
   ]
  },
  {
   "cell_type": "code",
   "execution_count": 248,
   "id": "ead27b41",
   "metadata": {},
   "outputs": [],
   "source": [
    "def sigmoid_derivative(z):\n",
    "    return z * (1.0-z)"
   ]
  },
  {
   "cell_type": "code",
   "execution_count": 262,
   "id": "f8489cff",
   "metadata": {},
   "outputs": [],
   "source": [
    "neurns = 4\n",
    "class NeuralNetwork:\n",
    "    def __init__(self, x, y):\n",
    "        self.input = x\n",
    "        self.weights1 = np.random.rand(self.input.shape[1], neurns)\n",
    "        self.weights2 = np.random.rand(neurns, 1)\n",
    "        self.y = y\n",
    "        self.output = np.zeros(self.y.shape)\n",
    "#         print(\"wights1 {} \\n.......\\n wights2 {} \\n........\\n output {}\".format(self.wights1, self.wights2, self.output))\n",
    "\n",
    "    def feedforward(self):\n",
    "        self.layer1 = sigmoid(np.dot(self.input, self.weights1))\n",
    "        self.output = sigmoid(np.dot(self.layer1, self.weights2))\n",
    "#         print(\"layer 1 \\n {} \\n....\\n layer 2 \\n{}\".format(self.layer1, self.output))\n",
    "        \n",
    "    def backprop(self):\n",
    "        d_w2 = np.dot(self.layer1.T, (2*(self.y - self.output)*sigmoid_derivative(self.output)))\n",
    "        d_w1 = np.dot(self.input.T,\n",
    "                            (np.dot(2*(self.y - self.output) * sigmoid_derivative(self.output),\n",
    "                                    self.weights2.T) * sigmoid_derivative(self.layer1)))\n",
    "        \n",
    "        self.weights1+=d_w1\n",
    "        self.weights2+=d_w2"
   ]
  },
  {
   "cell_type": "code",
   "execution_count": 263,
   "id": "e1c184b7",
   "metadata": {},
   "outputs": [],
   "source": [
    "X = np.array([[0, 0, 1], [0, 1, 1], [1, 0, 1], [1, 1, 1]])"
   ]
  },
  {
   "cell_type": "code",
   "execution_count": 264,
   "id": "7292ca0d",
   "metadata": {},
   "outputs": [
    {
     "data": {
      "text/plain": [
       "array([[0, 0, 1],\n",
       "       [0, 1, 1],\n",
       "       [1, 0, 1],\n",
       "       [1, 1, 1]])"
      ]
     },
     "execution_count": 264,
     "metadata": {},
     "output_type": "execute_result"
    }
   ],
   "source": [
    "X"
   ]
  },
  {
   "cell_type": "code",
   "execution_count": 265,
   "id": "7d42726e",
   "metadata": {},
   "outputs": [],
   "source": [
    "y = np.array([[0],\n",
    "              [1],\n",
    "              [1],\n",
    "              [0]])"
   ]
  },
  {
   "cell_type": "code",
   "execution_count": 253,
   "id": "f178d8c0",
   "metadata": {},
   "outputs": [
    {
     "data": {
      "text/plain": [
       "array([[0],\n",
       "       [1],\n",
       "       [1],\n",
       "       [0]])"
      ]
     },
     "execution_count": 253,
     "metadata": {},
     "output_type": "execute_result"
    }
   ],
   "source": [
    "y"
   ]
  },
  {
   "cell_type": "code",
   "execution_count": 266,
   "id": "d800f341",
   "metadata": {},
   "outputs": [],
   "source": [
    "NN = NeuralNetwork(X, y)"
   ]
  },
  {
   "cell_type": "code",
   "execution_count": 275,
   "id": "e4f259ba",
   "metadata": {
    "scrolled": true
   },
   "outputs": [],
   "source": [
    "for _ in range(10000):\n",
    "    NN.feedforward()\n",
    "    NN.backprop()"
   ]
  },
  {
   "cell_type": "code",
   "execution_count": 276,
   "id": "1fc1edbf",
   "metadata": {},
   "outputs": [
    {
     "data": {
      "text/plain": [
       "array([[0.00552667],\n",
       "       [0.99426566],\n",
       "       [0.99343548],\n",
       "       [0.00659313]])"
      ]
     },
     "execution_count": 276,
     "metadata": {},
     "output_type": "execute_result"
    }
   ],
   "source": [
    "NN.output"
   ]
  },
  {
   "cell_type": "code",
   "execution_count": null,
   "id": "dc90bba3",
   "metadata": {},
   "outputs": [],
   "source": []
  }
 ],
 "metadata": {
  "kernelspec": {
   "display_name": "Python 3 (ipykernel)",
   "language": "python",
   "name": "python3"
  },
  "language_info": {
   "codemirror_mode": {
    "name": "ipython",
    "version": 3
   },
   "file_extension": ".py",
   "mimetype": "text/x-python",
   "name": "python",
   "nbconvert_exporter": "python",
   "pygments_lexer": "ipython3",
   "version": "3.10.3"
  }
 },
 "nbformat": 4,
 "nbformat_minor": 5
}
