{
  "nbformat": 4,
  "nbformat_minor": 0,
  "metadata": {
    "colab": {
      "name": "mnist2.ipynb",
      "provenance": [],
      "authorship_tag": "ABX9TyN1wg3D9gKwRYLrWBY1Sgs0",
      "include_colab_link": true
    },
    "kernelspec": {
      "name": "python3",
      "display_name": "Python 3"
    },
    "language_info": {
      "name": "python"
    }
  },
  "cells": [
    {
      "cell_type": "markdown",
      "metadata": {
        "id": "view-in-github",
        "colab_type": "text"
      },
      "source": [
        "<a href=\"https://colab.research.google.com/github/AhmedSheded/NeuralNetwork/blob/master/mnist2.ipynb\" target=\"_parent\"><img src=\"https://colab.research.google.com/assets/colab-badge.svg\" alt=\"Open In Colab\"/></a>"
      ]
    },
    {
      "cell_type": "code",
      "metadata": {
        "id": "SP1Od6EQmR29"
      },
      "source": [
        "import tensorflow as tf\n",
        "import matplotlib.pyplot as plt\n"
      ],
      "execution_count": null,
      "outputs": []
    },
    {
      "cell_type": "code",
      "metadata": {
        "colab": {
          "base_uri": "https://localhost:8080/"
        },
        "id": "9JKFl5X1mbjj",
        "outputId": "84bec41b-db8c-4f64-ca79-b80ad0da453f"
      },
      "source": [
        "mnist = tf.keras.datasets.mnist\n",
        "(x_train, y_train), (x_test, y_test) = mnist.load_data()"
      ],
      "execution_count": null,
      "outputs": [
        {
          "output_type": "stream",
          "text": [
            "Downloading data from https://storage.googleapis.com/tensorflow/tf-keras-datasets/mnist.npz\n",
            "11493376/11490434 [==============================] - 0s 0us/step\n",
            "11501568/11490434 [==============================] - 0s 0us/step\n"
          ],
          "name": "stdout"
        }
      ]
    },
    {
      "cell_type": "code",
      "metadata": {
        "colab": {
          "base_uri": "https://localhost:8080/"
        },
        "id": "aNB7AJcCmvhF",
        "outputId": "618b986e-2d1e-4371-a4a2-63d1f803cbd7"
      },
      "source": [
        "  print(x_train[0])"
      ],
      "execution_count": null,
      "outputs": [
        {
          "output_type": "stream",
          "text": [
            "[[  0   0   0   0   0   0   0   0   0   0   0   0   0   0   0   0   0   0\n",
            "    0   0   0   0   0   0   0   0   0   0]\n",
            " [  0   0   0   0   0   0   0   0   0   0   0   0   0   0   0   0   0   0\n",
            "    0   0   0   0   0   0   0   0   0   0]\n",
            " [  0   0   0   0   0   0   0   0   0   0   0   0   0   0   0   0   0   0\n",
            "    0   0   0   0   0   0   0   0   0   0]\n",
            " [  0   0   0   0   0   0   0   0   0   0   0   0   0   0   0   0   0   0\n",
            "    0   0   0   0   0   0   0   0   0   0]\n",
            " [  0   0   0   0   0   0   0   0   0   0   0   0   0   0   0   0   0   0\n",
            "    0   0   0   0   0   0   0   0   0   0]\n",
            " [  0   0   0   0   0   0   0   0   0   0   0   0   3  18  18  18 126 136\n",
            "  175  26 166 255 247 127   0   0   0   0]\n",
            " [  0   0   0   0   0   0   0   0  30  36  94 154 170 253 253 253 253 253\n",
            "  225 172 253 242 195  64   0   0   0   0]\n",
            " [  0   0   0   0   0   0   0  49 238 253 253 253 253 253 253 253 253 251\n",
            "   93  82  82  56  39   0   0   0   0   0]\n",
            " [  0   0   0   0   0   0   0  18 219 253 253 253 253 253 198 182 247 241\n",
            "    0   0   0   0   0   0   0   0   0   0]\n",
            " [  0   0   0   0   0   0   0   0  80 156 107 253 253 205  11   0  43 154\n",
            "    0   0   0   0   0   0   0   0   0   0]\n",
            " [  0   0   0   0   0   0   0   0   0  14   1 154 253  90   0   0   0   0\n",
            "    0   0   0   0   0   0   0   0   0   0]\n",
            " [  0   0   0   0   0   0   0   0   0   0   0 139 253 190   2   0   0   0\n",
            "    0   0   0   0   0   0   0   0   0   0]\n",
            " [  0   0   0   0   0   0   0   0   0   0   0  11 190 253  70   0   0   0\n",
            "    0   0   0   0   0   0   0   0   0   0]\n",
            " [  0   0   0   0   0   0   0   0   0   0   0   0  35 241 225 160 108   1\n",
            "    0   0   0   0   0   0   0   0   0   0]\n",
            " [  0   0   0   0   0   0   0   0   0   0   0   0   0  81 240 253 253 119\n",
            "   25   0   0   0   0   0   0   0   0   0]\n",
            " [  0   0   0   0   0   0   0   0   0   0   0   0   0   0  45 186 253 253\n",
            "  150  27   0   0   0   0   0   0   0   0]\n",
            " [  0   0   0   0   0   0   0   0   0   0   0   0   0   0   0  16  93 252\n",
            "  253 187   0   0   0   0   0   0   0   0]\n",
            " [  0   0   0   0   0   0   0   0   0   0   0   0   0   0   0   0   0 249\n",
            "  253 249  64   0   0   0   0   0   0   0]\n",
            " [  0   0   0   0   0   0   0   0   0   0   0   0   0   0  46 130 183 253\n",
            "  253 207   2   0   0   0   0   0   0   0]\n",
            " [  0   0   0   0   0   0   0   0   0   0   0   0  39 148 229 253 253 253\n",
            "  250 182   0   0   0   0   0   0   0   0]\n",
            " [  0   0   0   0   0   0   0   0   0   0  24 114 221 253 253 253 253 201\n",
            "   78   0   0   0   0   0   0   0   0   0]\n",
            " [  0   0   0   0   0   0   0   0  23  66 213 253 253 253 253 198  81   2\n",
            "    0   0   0   0   0   0   0   0   0   0]\n",
            " [  0   0   0   0   0   0  18 171 219 253 253 253 253 195  80   9   0   0\n",
            "    0   0   0   0   0   0   0   0   0   0]\n",
            " [  0   0   0   0  55 172 226 253 253 253 253 244 133  11   0   0   0   0\n",
            "    0   0   0   0   0   0   0   0   0   0]\n",
            " [  0   0   0   0 136 253 253 253 212 135 132  16   0   0   0   0   0   0\n",
            "    0   0   0   0   0   0   0   0   0   0]\n",
            " [  0   0   0   0   0   0   0   0   0   0   0   0   0   0   0   0   0   0\n",
            "    0   0   0   0   0   0   0   0   0   0]\n",
            " [  0   0   0   0   0   0   0   0   0   0   0   0   0   0   0   0   0   0\n",
            "    0   0   0   0   0   0   0   0   0   0]\n",
            " [  0   0   0   0   0   0   0   0   0   0   0   0   0   0   0   0   0   0\n",
            "    0   0   0   0   0   0   0   0   0   0]]\n"
          ],
          "name": "stdout"
        }
      ]
    },
    {
      "cell_type": "code",
      "metadata": {
        "colab": {
          "base_uri": "https://localhost:8080/",
          "height": 282
        },
        "id": "RfLPsbSRm04x",
        "outputId": "4686b799-b76f-4945-dd39-b7628a2affde"
      },
      "source": [
        "plt.imshow(x_train[10], cmap=plt.cm.binary)\n",
        "print(\"label is: \",y_train[10])"
      ],
      "execution_count": null,
      "outputs": [
        {
          "output_type": "stream",
          "text": [
            "label is:  3\n"
          ],
          "name": "stdout"
        },
        {
          "output_type": "display_data",
          "data": {
            "image/png": "[encoded data removed]",
            "text/plain": [
              "<Figure size 432x288 with 1 Axes>"
            ]
          },
          "metadata": {
            "needs_background": "light"
          }
        }
      ]
    },
    {
      "cell_type": "code",
      "metadata": {
        "id": "_XUUq4xDnK2I"
      },
      "source": [
        "x_train = tf.keras.utils.normalize(x_train, axis=1)\n",
        "x_test = tf.keras.utils.normalize(x_test, axis=1)"
      ],
      "execution_count": null,
      "outputs": []
    },
    {
      "cell_type": "code",
      "metadata": {
        "colab": {
          "base_uri": "https://localhost:8080/"
        },
        "id": "1ddCpKT2qQst",
        "outputId": "a0864d59-e096-4e62-b13f-afbcb895ba8e"
      },
      "source": [
        "print(x_train[0])"
      ],
      "execution_count": null,
      "outputs": [
        {
          "output_type": "stream",
          "text": [
            "[[0.         0.         0.         0.         0.         0.\n",
            "  0.         0.         0.         0.         0.         0.\n",
            "  0.         0.         0.         0.         0.         0.\n",
            "  0.         0.         0.         0.         0.         0.\n",
            "  0.         0.         0.         0.        ]\n",
            " [0.         0.         0.         0.         0.         0.\n",
            "  0.         0.         0.         0.         0.         0.\n",
            "  0.         0.         0.         0.         0.         0.\n",
            "  0.         0.         0.         0.         0.         0.\n",
            "  0.         0.         0.         0.        ]\n",
            " [0.         0.         0.         0.         0.         0.\n",
            "  0.         0.         0.         0.         0.         0.\n",
            "  0.         0.         0.         0.         0.         0.\n",
            "  0.         0.         0.         0.         0.         0.\n",
            "  0.         0.         0.         0.        ]\n",
            " [0.         0.         0.         0.         0.         0.\n",
            "  0.         0.         0.         0.         0.         0.\n",
            "  0.         0.         0.         0.         0.         0.\n",
            "  0.         0.         0.         0.         0.         0.\n",
            "  0.         0.         0.         0.        ]\n",
            " [0.         0.         0.         0.         0.         0.\n",
            "  0.         0.         0.         0.         0.         0.\n",
            "  0.         0.         0.         0.         0.         0.\n",
            "  0.         0.         0.         0.         0.         0.\n",
            "  0.         0.         0.         0.        ]\n",
            " [0.         0.         0.         0.         0.         0.\n",
            "  0.         0.         0.         0.         0.         0.\n",
            "  0.00393124 0.02332955 0.02620568 0.02625207 0.17420356 0.17566281\n",
            "  0.28629534 0.05664824 0.51877786 0.71632322 0.77892406 0.89301644\n",
            "  0.         0.         0.         0.        ]\n",
            " [0.         0.         0.         0.         0.         0.\n",
            "  0.         0.         0.05780486 0.06524513 0.16128198 0.22713296\n",
            "  0.22277047 0.32790981 0.36833534 0.3689874  0.34978968 0.32678448\n",
            "  0.368094   0.3747499  0.79066747 0.67980478 0.61494005 0.45002403\n",
            "  0.         0.         0.         0.        ]\n",
            " [0.         0.         0.         0.         0.         0.\n",
            "  0.         0.12250613 0.45858525 0.45852825 0.43408872 0.37314701\n",
            "  0.33153488 0.32790981 0.36833534 0.3689874  0.34978968 0.32420121\n",
            "  0.15214552 0.17865984 0.25626376 0.1573102  0.12298801 0.\n",
            "  0.         0.         0.         0.        ]\n",
            " [0.         0.         0.         0.         0.         0.\n",
            "  0.         0.04500225 0.4219755  0.45852825 0.43408872 0.37314701\n",
            "  0.33153488 0.32790981 0.28826244 0.26543758 0.34149427 0.31128482\n",
            "  0.         0.         0.         0.         0.         0.\n",
            "  0.         0.         0.         0.        ]\n",
            " [0.         0.         0.         0.         0.         0.\n",
            "  0.         0.         0.1541463  0.28272888 0.18358693 0.37314701\n",
            "  0.33153488 0.26569767 0.01601458 0.         0.05945042 0.19891229\n",
            "  0.         0.         0.         0.         0.         0.\n",
            "  0.         0.         0.         0.        ]\n",
            " [0.         0.         0.         0.         0.         0.\n",
            "  0.         0.         0.         0.0253731  0.00171577 0.22713296\n",
            "  0.33153488 0.11664776 0.         0.         0.         0.\n",
            "  0.         0.         0.         0.         0.         0.\n",
            "  0.         0.         0.         0.        ]\n",
            " [0.         0.         0.         0.         0.         0.\n",
            "  0.         0.         0.         0.         0.         0.20500962\n",
            "  0.33153488 0.24625638 0.00291174 0.         0.         0.\n",
            "  0.         0.         0.         0.         0.         0.\n",
            "  0.         0.         0.         0.        ]\n",
            " [0.         0.         0.         0.         0.         0.\n",
            "  0.         0.         0.         0.         0.         0.01622378\n",
            "  0.24897876 0.32790981 0.10191096 0.         0.         0.\n",
            "  0.         0.         0.         0.         0.         0.\n",
            "  0.         0.         0.         0.        ]\n",
            " [0.         0.         0.         0.         0.         0.\n",
            "  0.         0.         0.         0.         0.         0.\n",
            "  0.04586451 0.31235677 0.32757096 0.23335172 0.14931733 0.00129164\n",
            "  0.         0.         0.         0.         0.         0.\n",
            "  0.         0.         0.         0.        ]\n",
            " [0.         0.         0.         0.         0.         0.\n",
            "  0.         0.         0.         0.         0.         0.\n",
            "  0.         0.10498298 0.34940902 0.3689874  0.34978968 0.15370495\n",
            "  0.04089933 0.         0.         0.         0.         0.\n",
            "  0.         0.         0.         0.        ]\n",
            " [0.         0.         0.         0.         0.         0.\n",
            "  0.         0.         0.         0.         0.         0.\n",
            "  0.         0.         0.06551419 0.27127137 0.34978968 0.32678448\n",
            "  0.245396   0.05882702 0.         0.         0.         0.\n",
            "  0.         0.         0.         0.        ]\n",
            " [0.         0.         0.         0.         0.         0.\n",
            "  0.         0.         0.         0.         0.         0.\n",
            "  0.         0.         0.         0.02333517 0.12857881 0.32549285\n",
            "  0.41390126 0.40743158 0.         0.         0.         0.\n",
            "  0.         0.         0.         0.        ]\n",
            " [0.         0.         0.         0.         0.         0.\n",
            "  0.         0.         0.         0.         0.         0.\n",
            "  0.         0.         0.         0.         0.         0.32161793\n",
            "  0.41390126 0.54251585 0.20001074 0.         0.         0.\n",
            "  0.         0.         0.         0.        ]\n",
            " [0.         0.         0.         0.         0.         0.\n",
            "  0.         0.         0.         0.         0.         0.\n",
            "  0.         0.         0.06697006 0.18959827 0.25300993 0.32678448\n",
            "  0.41390126 0.45100715 0.00625034 0.         0.         0.\n",
            "  0.         0.         0.         0.        ]\n",
            " [0.         0.         0.         0.         0.         0.\n",
            "  0.         0.         0.         0.         0.         0.\n",
            "  0.05110617 0.19182076 0.33339444 0.3689874  0.34978968 0.32678448\n",
            "  0.40899334 0.39653769 0.         0.         0.         0.\n",
            "  0.         0.         0.         0.        ]\n",
            " [0.         0.         0.         0.         0.         0.\n",
            "  0.         0.         0.         0.         0.04117838 0.16813739\n",
            "  0.28960162 0.32790981 0.36833534 0.3689874  0.34978968 0.25961929\n",
            "  0.12760592 0.         0.         0.         0.         0.\n",
            "  0.         0.         0.         0.        ]\n",
            " [0.         0.         0.         0.         0.         0.\n",
            "  0.         0.         0.04431706 0.11961607 0.36545809 0.37314701\n",
            "  0.33153488 0.32790981 0.36833534 0.28877275 0.111988   0.00258328\n",
            "  0.         0.         0.         0.         0.         0.\n",
            "  0.         0.         0.         0.        ]\n",
            " [0.         0.         0.         0.         0.         0.\n",
            "  0.05298497 0.42752138 0.4219755  0.45852825 0.43408872 0.37314701\n",
            "  0.33153488 0.25273681 0.11646967 0.01312603 0.         0.\n",
            "  0.         0.         0.         0.         0.         0.\n",
            "  0.         0.         0.         0.        ]\n",
            " [0.         0.         0.         0.         0.37491383 0.56222061\n",
            "  0.66525569 0.63253163 0.48748768 0.45852825 0.43408872 0.359873\n",
            "  0.17428513 0.01425695 0.         0.         0.         0.\n",
            "  0.         0.         0.         0.         0.         0.\n",
            "  0.         0.         0.         0.        ]\n",
            " [0.         0.         0.         0.         0.92705966 0.82698729\n",
            "  0.74473314 0.63253163 0.4084877  0.24466922 0.22648107 0.02359823\n",
            "  0.         0.         0.         0.         0.         0.\n",
            "  0.         0.         0.         0.         0.         0.\n",
            "  0.         0.         0.         0.        ]\n",
            " [0.         0.         0.         0.         0.         0.\n",
            "  0.         0.         0.         0.         0.         0.\n",
            "  0.         0.         0.         0.         0.         0.\n",
            "  0.         0.         0.         0.         0.         0.\n",
            "  0.         0.         0.         0.        ]\n",
            " [0.         0.         0.         0.         0.         0.\n",
            "  0.         0.         0.         0.         0.         0.\n",
            "  0.         0.         0.         0.         0.         0.\n",
            "  0.         0.         0.         0.         0.         0.\n",
            "  0.         0.         0.         0.        ]\n",
            " [0.         0.         0.         0.         0.         0.\n",
            "  0.         0.         0.         0.         0.         0.\n",
            "  0.         0.         0.         0.         0.         0.\n",
            "  0.         0.         0.         0.         0.         0.\n",
            "  0.         0.         0.         0.        ]]\n"
          ],
          "name": "stdout"
        }
      ]
    },
    {
      "cell_type": "code",
      "metadata": {
        "colab": {
          "base_uri": "https://localhost:8080/",
          "height": 282
        },
        "id": "w3wuhKXbqbO8",
        "outputId": "1f379df4-ac9d-454c-c3b7-464fdc881cef"
      },
      "source": [
        "plt.imshow(x_train[5], cmap=plt.cm.binary)"
      ],
      "execution_count": null,
      "outputs": [
        {
          "output_type": "execute_result",
          "data": {
            "text/plain": [
              "<matplotlib.image.AxesImage at 0x7f612e47c550>"
            ]
          },
          "metadata": {},
          "execution_count": 13
        },
        {
          "output_type": "display_data",
          "data": {
            "image/png": "[encoded data removed]",
            "text/plain": [
              "<Figure size 432x288 with 1 Axes>"
            ]
          },
          "metadata": {
            "needs_background": "light"
          }
        }
      ]
    },
    {
      "cell_type": "code",
      "metadata": {
        "id": "exb9-YS7q3NL"
      },
      "source": [
        "model = tf.keras.Sequential([\n",
        "        tf.keras.layers.Flatten(),\n",
        "        tf.keras.layers.Dense(512, activation='relu'),\n",
        "        tf.keras.layers.Dense(256, activation='relu'),\n",
        "        tf.keras.layers.Dense(128, activation='relu'),\n",
        "        tf.keras.layers.Dense(10)\n",
        "])\n",
        "\n",
        "model.compile(\n",
        "    loss=tf.keras.losses.SparseCategoricalCrossentropy(from_logits=True),\n",
        "    optimizer=tf.keras.optimizers.Adam(learning_rate=0.001),\n",
        "    metrics=['accuracy']\n",
        ")"
      ],
      "execution_count": null,
      "outputs": []
    },
    {
      "cell_type": "code",
      "metadata": {
        "colab": {
          "base_uri": "https://localhost:8080/"
        },
        "id": "fAVBmfiZsJjI",
        "outputId": "e3211f84-7c88-452d-f1e0-13d6b53ba5bf"
      },
      "source": [
        "model.fit(x_train, y_train, epochs=50)\n",
        "model.evaluate(x_test, y_test)"
      ],
      "execution_count": null,
      "outputs": [
        {
          "output_type": "stream",
          "text": [
            "Epoch 1/50\n",
            "1875/1875 [==============================] - 12s 7ms/step - loss: 0.0108 - accuracy: 0.9969\n",
            "Epoch 2/50\n",
            "1875/1875 [==============================] - 13s 7ms/step - loss: 0.0095 - accuracy: 0.9971\n",
            "Epoch 3/50\n",
            "1875/1875 [==============================] - 13s 7ms/step - loss: 0.0103 - accuracy: 0.9969\n",
            "Epoch 4/50\n",
            "1875/1875 [==============================] - 13s 7ms/step - loss: 0.0107 - accuracy: 0.9969\n",
            "Epoch 5/50\n",
            "1875/1875 [==============================] - 14s 7ms/step - loss: 0.0081 - accuracy: 0.9977\n",
            "Epoch 6/50\n",
            "1875/1875 [==============================] - 12s 7ms/step - loss: 0.0083 - accuracy: 0.9976\n",
            "Epoch 7/50\n",
            "1875/1875 [==============================] - 13s 7ms/step - loss: 0.0099 - accuracy: 0.9974\n",
            "Epoch 8/50\n",
            "1875/1875 [==============================] - 14s 7ms/step - loss: 0.0081 - accuracy: 0.9978\n",
            "Epoch 9/50\n",
            "1875/1875 [==============================] - 13s 7ms/step - loss: 0.0086 - accuracy: 0.9978\n",
            "Epoch 10/50\n",
            "1875/1875 [==============================] - 13s 7ms/step - loss: 0.0084 - accuracy: 0.9980\n",
            "Epoch 11/50\n",
            "1875/1875 [==============================] - 13s 7ms/step - loss: 0.0075 - accuracy: 0.9983\n",
            "Epoch 12/50\n",
            "1875/1875 [==============================] - 13s 7ms/step - loss: 0.0086 - accuracy: 0.9982\n",
            "Epoch 13/50\n",
            "1875/1875 [==============================] - 14s 7ms/step - loss: 0.0068 - accuracy: 0.9983\n",
            "Epoch 14/50\n",
            "1875/1875 [==============================] - 14s 7ms/step - loss: 0.0067 - accuracy: 0.9984\n",
            "Epoch 15/50\n",
            "1875/1875 [==============================] - 13s 7ms/step - loss: 0.0118 - accuracy: 0.9973\n",
            "Epoch 16/50\n",
            "1875/1875 [==============================] - 13s 7ms/step - loss: 0.0057 - accuracy: 0.9985\n",
            "Epoch 17/50\n",
            "1875/1875 [==============================] - 13s 7ms/step - loss: 0.0091 - accuracy: 0.9980\n",
            "Epoch 18/50\n",
            "1875/1875 [==============================] - 13s 7ms/step - loss: 0.0064 - accuracy: 0.9983\n",
            "Epoch 19/50\n",
            "1875/1875 [==============================] - 13s 7ms/step - loss: 0.0074 - accuracy: 0.9981\n",
            "Epoch 20/50\n",
            "1875/1875 [==============================] - 13s 7ms/step - loss: 0.0079 - accuracy: 0.9979\n",
            "Epoch 21/50\n",
            "1875/1875 [==============================] - 13s 7ms/step - loss: 0.0058 - accuracy: 0.9984\n",
            "Epoch 22/50\n",
            "1875/1875 [==============================] - 13s 7ms/step - loss: 0.0058 - accuracy: 0.9984\n",
            "Epoch 23/50\n",
            "1875/1875 [==============================] - 13s 7ms/step - loss: 0.0064 - accuracy: 0.9984\n",
            "Epoch 24/50\n",
            "1875/1875 [==============================] - 13s 7ms/step - loss: 0.0051 - accuracy: 0.9988\n",
            "Epoch 25/50\n",
            "1875/1875 [==============================] - 13s 7ms/step - loss: 0.0067 - accuracy: 0.9985\n",
            "Epoch 26/50\n",
            "1875/1875 [==============================] - 13s 7ms/step - loss: 0.0080 - accuracy: 0.9983\n",
            "Epoch 27/50\n",
            "1875/1875 [==============================] - 13s 7ms/step - loss: 0.0051 - accuracy: 0.9990\n",
            "Epoch 28/50\n",
            "1875/1875 [==============================] - 13s 7ms/step - loss: 0.0072 - accuracy: 0.9981\n",
            "Epoch 29/50\n",
            "1875/1875 [==============================] - 13s 7ms/step - loss: 0.0048 - accuracy: 0.9990\n",
            "Epoch 30/50\n",
            "1875/1875 [==============================] - 13s 7ms/step - loss: 0.0061 - accuracy: 0.9988\n",
            "Epoch 31/50\n",
            "1875/1875 [==============================] - 13s 7ms/step - loss: 0.0058 - accuracy: 0.9987\n",
            "Epoch 32/50\n",
            "1875/1875 [==============================] - 14s 8ms/step - loss: 0.0083 - accuracy: 0.9986\n",
            "Epoch 33/50\n",
            "1875/1875 [==============================] - 12s 7ms/step - loss: 0.0047 - accuracy: 0.9989\n",
            "Epoch 34/50\n",
            "1875/1875 [==============================] - 14s 7ms/step - loss: 0.0045 - accuracy: 0.9992\n",
            "Epoch 35/50\n",
            "1875/1875 [==============================] - 13s 7ms/step - loss: 0.0074 - accuracy: 0.9984\n",
            "Epoch 36/50\n",
            "1875/1875 [==============================] - 13s 7ms/step - loss: 0.0085 - accuracy: 0.9983\n",
            "Epoch 37/50\n",
            "1875/1875 [==============================] - 14s 8ms/step - loss: 0.0052 - accuracy: 0.9989\n",
            "Epoch 38/50\n",
            "1875/1875 [==============================] - 13s 7ms/step - loss: 0.0046 - accuracy: 0.9988\n",
            "Epoch 39/50\n",
            "1875/1875 [==============================] - 13s 7ms/step - loss: 0.0052 - accuracy: 0.9987\n",
            "Epoch 40/50\n",
            "1875/1875 [==============================] - 13s 7ms/step - loss: 0.0062 - accuracy: 0.9988\n",
            "Epoch 41/50\n",
            "1875/1875 [==============================] - 13s 7ms/step - loss: 0.0042 - accuracy: 0.9991\n",
            "Epoch 42/50\n",
            "1875/1875 [==============================] - 13s 7ms/step - loss: 0.0045 - accuracy: 0.9991\n",
            "Epoch 43/50\n",
            "1875/1875 [==============================] - 13s 7ms/step - loss: 0.0076 - accuracy: 0.9988\n",
            "Epoch 44/50\n",
            "1875/1875 [==============================] - 13s 7ms/step - loss: 0.0072 - accuracy: 0.9989\n",
            "Epoch 45/50\n",
            "1875/1875 [==============================] - 13s 7ms/step - loss: 0.0047 - accuracy: 0.9989\n",
            "Epoch 46/50\n",
            "1875/1875 [==============================] - 13s 7ms/step - loss: 0.0083 - accuracy: 0.9985\n",
            "Epoch 47/50\n",
            "1875/1875 [==============================] - 13s 7ms/step - loss: 0.0023 - accuracy: 0.9996\n",
            "Epoch 48/50\n",
            "1875/1875 [==============================] - 13s 7ms/step - loss: 0.0058 - accuracy: 0.9988\n",
            "Epoch 49/50\n",
            "1875/1875 [==============================] - 12s 7ms/step - loss: 0.0048 - accuracy: 0.9991\n",
            "Epoch 50/50\n",
            "1875/1875 [==============================] - 14s 7ms/step - loss: 0.0045 - accuracy: 0.9992\n",
            "313/313 [==============================] - 1s 3ms/step - loss: 0.2478 - accuracy: 0.9808\n"
          ],
          "name": "stdout"
        },
        {
          "output_type": "execute_result",
          "data": {
            "text/plain": [
              "[0.24780407547950745, 0.9807999730110168]"
            ]
          },
          "metadata": {},
          "execution_count": 23
        }
      ]
    },
    {
      "cell_type": "code",
      "metadata": {
        "colab": {
          "base_uri": "https://localhost:8080/"
        },
        "id": "3MqXjfL2tY2i",
        "outputId": "142e55c5-9a38-4763-ed84-c613f65033f4"
      },
      "source": [
        "model.save(\"mnist.model\")"
      ],
      "execution_count": null,
      "outputs": [
        {
          "output_type": "stream",
          "text": [
            "INFO:tensorflow:Assets written to: mnist.model/assets\n"
          ],
          "name": "stdout"
        }
      ]
    },
    {
      "cell_type": "code",
      "metadata": {
        "id": "CsA_sIJ7v5Xz"
      },
      "source": [
        "new_model = tf.keras.models.load_model('mnist.model')"
      ],
      "execution_count": null,
      "outputs": []
    },
    {
      "cell_type": "code",
      "metadata": {
        "colab": {
          "base_uri": "https://localhost:8080/"
        },
        "id": "ehWbphz6D2DR",
        "outputId": "0f41da8b-a527-4be9-ddc3-7f1acd4bbca8"
      },
      "source": [
        "predictoin = new_model.predict(x_test)\n",
        "print(predictoin)"
      ],
      "execution_count": null,
      "outputs": [
        {
          "output_type": "stream",
          "text": [
            "[[-172.3814    -119.02691    -93.00951   ...   11.875628  -118.58588\n",
            "   -84.87104  ]\n",
            " [-133.77777   -144.21184    -16.708069  ...  -97.846016  -111.62591\n",
            "  -168.04126  ]\n",
            " [-110.09707     -0.2514215  -63.3086    ...  -82.19483    -64.00911\n",
            "  -135.06757  ]\n",
            " ...\n",
            " [-131.32182   -103.13625    -78.223015  ...  -68.468285  -100.298676\n",
            "   -71.592735 ]\n",
            " [-118.09299   -163.59856   -103.63828   ...  -82.06771    -77.666405\n",
            "   -75.52122  ]\n",
            " [ -76.704666  -115.13698    -75.44071   ...  -80.301414   -86.228424\n",
            "  -125.64302  ]]\n"
          ],
          "name": "stdout"
        }
      ]
    },
    {
      "cell_type": "code",
      "metadata": {
        "colab": {
          "base_uri": "https://localhost:8080/",
          "height": 300
        },
        "id": "Ox2H_mYhEHXi",
        "outputId": "9ca49a8e-7740-4566-dd29-d9a55c326f9d"
      },
      "source": [
        "import numpy as np\n",
        "print(\"Number is: \", np.argmax(predictoin[5]))\n",
        "plt.imshow(x_test[5], cmap=plt.cm.binary)"
      ],
      "execution_count": null,
      "outputs": [
        {
          "output_type": "stream",
          "text": [
            "Number is:  1\n"
          ],
          "name": "stdout"
        },
        {
          "output_type": "execute_result",
          "data": {
            "text/plain": [
              "<matplotlib.image.AxesImage at 0x7f612e5e1e10>"
            ]
          },
          "metadata": {},
          "execution_count": 36
        },
        {
          "output_type": "display_data",
          "data": {
            "image/png": "[encoded data removed]",
            "text/plain": [
              "<Figure size 432x288 with 1 Axes>"
            ]
          },
          "metadata": {
            "needs_background": "light"
          }
        }
      ]
    },
    {
      "cell_type": "code",
      "metadata": {
        "id": "EOJTRAgUIo7E"
      },
      "source": [
        ""
      ],
      "execution_count": null,
      "outputs": []
    }
  ]
}