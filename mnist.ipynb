{
  "nbformat": 4,
  "nbformat_minor": 0,
  "metadata": {
    "colab": {
      "name": "mnist.ipynb",
      "provenance": [],
      "authorship_tag": "ABX9TyOzqe4vvKqlTzeOi0ivZ2XQ",
      "include_colab_link": true
    },
    "kernelspec": {
      "name": "python3",
      "display_name": "Python 3"
    },
    "language_info": {
      "name": "python"
    }
  },
  "cells": [
    {
      "cell_type": "markdown",
      "metadata": {
        "id": "view-in-github",
        "colab_type": "text"
      },
      "source": [
        "<a href=\"https://colab.research.google.com/github/AhmedSheded/NeuralNetwork/blob/master/mnist.ipynb\" target=\"_parent\"><img src=\"https://colab.research.google.com/assets/colab-badge.svg\" alt=\"Open In Colab\"/></a>"
      ]
    },
    {
      "cell_type": "code",
      "metadata": {
        "id": "TMALqES7EOvb"
      },
      "source": [
        "import tensorflow as tf\n",
        "import tensorflow as tf\n",
        "from tensorflow import keras\n",
        "from tensorflow.keras import layers\n",
        "from tensorflow.keras.datasets import mnist\n",
        "import numpy as np\n",
        "import sys"
      ],
      "execution_count": null,
      "outputs": []
    },
    {
      "cell_type": "code",
      "metadata": {
        "id": "Uh6Su3LFEZB9",
        "colab": {
          "base_uri": "https://localhost:8080/"
        },
        "outputId": "8b49882d-9026-459d-a204-cc97c961f4e9"
      },
      "source": [
        "(x_train, y_train), (x_test, y_test) = mnist.load_data()\n"
      ],
      "execution_count": null,
      "outputs": [
        {
          "output_type": "stream",
          "text": [
            "Downloading data from https://storage.googleapis.com/tensorflow/tf-keras-datasets/mnist.npz\n",
            "11493376/11490434 [==============================] - 0s 0us/step\n",
            "11501568/11490434 [==============================] - 0s 0us/step\n"
          ],
          "name": "stdout"
        }
      ]
    },
    {
      "cell_type": "code",
      "metadata": {
        "colab": {
          "base_uri": "https://localhost:8080/"
        },
        "id": "q8NhouawEkRq",
        "outputId": "5c6c1ecf-a37d-4aa6-fbde-bd8b0853760b"
      },
      "source": [
        "print(x_train.shape)\n",
        "print(y_train.shape)\n",
        "print(x_test.shape)\n",
        "print(y_test.shape)"
      ],
      "execution_count": null,
      "outputs": [
        {
          "output_type": "stream",
          "text": [
            "(60000, 28, 28)\n",
            "(60000,)\n",
            "(10000, 28, 28)\n",
            "(10000,)\n"
          ],
          "name": "stdout"
        }
      ]
    },
    {
      "cell_type": "code",
      "metadata": {
        "id": "ZtutkEtMZR2l"
      },
      "source": [
        "x_train = x_train.reshape(-1, 28*28).astype('float32') / 255.0\n",
        "x_test = x_test.reshape(-1, 28*28).astype('float32') / 255.0"
      ],
      "execution_count": null,
      "outputs": []
    },
    {
      "cell_type": "code",
      "metadata": {
        "colab": {
          "base_uri": "https://localhost:8080/"
        },
        "id": "KDQ4yWgKfgM4",
        "outputId": "c3f327d2-8008-40ac-f07c-0d524fa013b4"
      },
      "source": [
        "model = keras.Sequential(\n",
        "    [\n",
        "        layers.Dense(512, activation='relu'),\n",
        "        layers.Dense(256, activation='relu'),\n",
        "        layers.Dense(10),\n",
        "    ]\n",
        ")\n",
        "\n",
        "\n",
        "model.compile(\n",
        "    loss=keras.losses.SparseCategoricalCrossentropy(from_logits=True),\n",
        "    optimizer=keras.optimizers.Adam(learning_rate=0.001),\n",
        "    metrics=['accuracy'],\n",
        ")\n",
        "model.fit(x_train, y_train, batch_size=32, epochs=15, verbose=2)\n",
        "model.evaluate(x_test, y_test, batch_size=32, verbose=2)"
      ],
      "execution_count": null,
      "outputs": [
        {
          "output_type": "stream",
          "text": [
            "Epoch 1/15\n",
            "1875/1875 - 7s - loss: 0.1874 - accuracy: 0.9433\n",
            "Epoch 2/15\n",
            "1875/1875 - 7s - loss: 0.0797 - accuracy: 0.9755\n",
            "Epoch 3/15\n",
            "1875/1875 - 7s - loss: 0.0548 - accuracy: 0.9823\n",
            "Epoch 4/15\n",
            "1875/1875 - 7s - loss: 0.0427 - accuracy: 0.9861\n",
            "Epoch 5/15\n",
            "1875/1875 - 6s - loss: 0.0307 - accuracy: 0.9906\n",
            "Epoch 6/15\n",
            "1875/1875 - 7s - loss: 0.0288 - accuracy: 0.9905\n",
            "Epoch 7/15\n",
            "1875/1875 - 7s - loss: 0.0238 - accuracy: 0.9928\n",
            "Epoch 8/15\n",
            "1875/1875 - 6s - loss: 0.0198 - accuracy: 0.9938\n",
            "Epoch 9/15\n",
            "1875/1875 - 7s - loss: 0.0193 - accuracy: 0.9938\n",
            "Epoch 10/15\n",
            "1875/1875 - 6s - loss: 0.0191 - accuracy: 0.9938\n",
            "Epoch 11/15\n",
            "1875/1875 - 6s - loss: 0.0164 - accuracy: 0.9950\n",
            "Epoch 12/15\n",
            "1875/1875 - 7s - loss: 0.0143 - accuracy: 0.9955\n",
            "Epoch 13/15\n",
            "1875/1875 - 7s - loss: 0.0143 - accuracy: 0.9957\n",
            "Epoch 14/15\n",
            "1875/1875 - 7s - loss: 0.0123 - accuracy: 0.9963\n",
            "Epoch 15/15\n",
            "1875/1875 - 7s - loss: 0.0126 - accuracy: 0.9963\n",
            "313/313 - 1s - loss: 0.1064 - accuracy: 0.9815\n"
          ],
          "name": "stdout"
        },
        {
          "output_type": "execute_result",
          "data": {
            "text/plain": [
              "[0.10639482736587524, 0.9815000295639038]"
            ]
          },
          "metadata": {},
          "execution_count": 8
        }
      ]
    },
    {
      "cell_type": "code",
      "metadata": {
        "id": "v5EfShPzgm01"
      },
      "source": [
        "x= model.predict(x_test)"
      ],
      "execution_count": null,
      "outputs": []
    },
    {
      "cell_type": "code",
      "metadata": {
        "colab": {
          "base_uri": "https://localhost:8080/"
        },
        "id": "AvKjZpSmObhY",
        "outputId": "44e3fabb-389e-42d2-9bd4-63f360e82c8c"
      },
      "source": [
        "x[0]"
      ],
      "execution_count": null,
      "outputs": [
        {
          "output_type": "execute_result",
          "data": {
            "text/plain": [
              "array([-10.255919 , -12.738336 ,  -8.640603 ,  -5.7391915,  -8.843341 ,\n",
              "       -10.094634 , -18.8684   ,  17.33144  , -13.208469 ,  -4.9750733],\n",
              "      dtype=float32)"
            ]
          },
          "metadata": {},
          "execution_count": 44
        }
      ]
    },
    {
      "cell_type": "code",
      "metadata": {
        "colab": {
          "base_uri": "https://localhost:8080/"
        },
        "id": "kGIndmuWO2CI",
        "outputId": "f92138cc-daca-454d-a55e-6bf23204cba3"
      },
      "source": [
        "val_loss, val_acc = model.evaluate(x_test, y_test)"
      ],
      "execution_count": null,
      "outputs": [
        {
          "output_type": "stream",
          "text": [
            "313/313 [==============================] - 1s 3ms/step - loss: 0.0926 - accuracy: 0.9811\n"
          ],
          "name": "stdout"
        }
      ]
    },
    {
      "cell_type": "code",
      "metadata": {
        "colab": {
          "base_uri": "https://localhost:8080/"
        },
        "id": "TKc6tsmTPSpb",
        "outputId": "6fc7e071-fb33-45a6-b6d1-44d1ffdba4e7"
      },
      "source": [
        " model.save('1.model')"
      ],
      "execution_count": null,
      "outputs": [
        {
          "output_type": "stream",
          "text": [
            "INFO:tensorflow:Assets written to: 1.model/assets\n"
          ],
          "name": "stdout"
        }
      ]
    },
    {
      "cell_type": "code",
      "metadata": {
        "id": "Dr17JZdCPmOX"
      },
      "source": [
        ""
      ],
      "execution_count": null,
      "outputs": []
    }
  ]
}